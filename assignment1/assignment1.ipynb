{
 "cells": [
  {
   "cell_type": "code",
   "execution_count": 2,
   "metadata": {},
   "outputs": [
    {
     "name": "stdout",
     "output_type": "stream",
     "text": [
      "3.12.1 (v3.12.1:2305ca5144, Dec  7 2023, 17:23:38) [Clang 13.0.0 (clang-1300.0.29.30)]\n"
     ]
    }
   ],
   "source": [
    "# Q.1)Write a Python program to get the Python version you are using.\n",
    "import sys\n",
    "print(sys.version)"
   ]
  },
  {
   "cell_type": "code",
   "execution_count": 3,
   "metadata": {},
   "outputs": [
    {
     "name": "stdout",
     "output_type": "stream",
     "text": [
      "The list of keywords is : \n",
      "['False', 'None', 'True', 'and', 'as', 'assert', 'async', 'await', 'break', 'class', 'continue', 'def', 'del', 'elif', 'else', 'except', 'finally', 'for', 'from', 'global', 'if', 'import', 'in', 'is', 'lambda', 'nonlocal', 'not', 'or', 'pass', 'raise', 'return', 'try', 'while', 'with', 'yield']\n"
     ]
    }
   ],
   "source": [
    "# Q.2)Write a Python program to list all the keywords in Python.\n",
    "# Ans.:\n",
    "import keyword\n",
    "print(\"The list of keywords is : \")\n",
    "print(keyword.kwlist)"
   ]
  },
  {
   "cell_type": "code",
   "execution_count": 7,
   "metadata": {},
   "outputs": [
    {
     "name": "stdout",
     "output_type": "stream",
     "text": [
      "Enter your name:\n",
      "Enter your age:\n",
      "You, Shreyaan will turn 100 years in 2105.\n"
     ]
    }
   ],
   "source": [
    "# Q.3)Create a program that asks the user to enter their name and their age. Print out a message addressed to them that tells them the year that they will turn 100 years old.\n",
    "# Ans.:\n",
    "name=input()\n",
    "print(\"Enter your name:\")\n",
    "age=int(input())\n",
    "print(\"Enter your age:\")\n",
    "print(f\"You, {name} will turn 100 years in {2024+100-age}.\")\n"
   ]
  },
  {
   "cell_type": "code",
   "execution_count": 9,
   "metadata": {},
   "outputs": [
    {
     "name": "stdout",
     "output_type": "stream",
     "text": [
      "Enter radius of the circle:\n",
      "The area of the circle is: 380.1327110843649.\n"
     ]
    }
   ],
   "source": [
    "# Q.4)Write a Python program which accepts the radius of a circle from the user and compute the area.(Hint: import math and use math.pi)\n",
    "# Ans.:\n",
    "import math\n",
    "radius=float(input())\n",
    "print(\"Enter radius of the circle:\")\n",
    "print(f\"The area of the circle is: {math.pi*radius*radius}.\")"
   ]
  },
  {
   "cell_type": "code",
   "execution_count": 11,
   "metadata": {},
   "outputs": [
    {
     "name": "stdout",
     "output_type": "stream",
     "text": [
      "Enter a number:\n",
      "Number is even\n"
     ]
    }
   ],
   "source": [
    "# Q.5)Ask the user for a number. Depending on whether the number is even or odd, print out an appropriate message to the user.\n",
    "# Ans.:\n",
    "num=int(input())\n",
    "print(\"Enter a number:\")\n",
    "if num % 2 ==0:\n",
    "   print(\"Number is even\")\n",
    "else:\n",
    "   print(\"Number is odd\")\n"
   ]
  },
  {
   "cell_type": "code",
   "execution_count": 12,
   "metadata": {},
   "outputs": [
    {
     "name": "stdout",
     "output_type": "stream",
     "text": [
      "false\n"
     ]
    }
   ],
   "source": [
    "# Q.6)Check whether the 0.1+ 0.2 =0.3 holds true in Python? If not find the ways to make it true.\n",
    "# When writing normally with the following code:\n",
    "# Code:\n",
    "if 0.1+0.2==0.3:\n",
    "   print(\"true\")\n",
    "else:\n",
    "   print(\"false\")\n"
   ]
  },
  {
   "cell_type": "code",
   "execution_count": 13,
   "metadata": {},
   "outputs": [
    {
     "name": "stdout",
     "output_type": "stream",
     "text": [
      "This is one of the ways to fix it. Now it shows:\n",
      "true\n"
     ]
    }
   ],
   "source": [
    "# To fix it, we import Decimal from decimal and use it as follows and we get the desired output:\n",
    "from decimal import *\n",
    "getcontext().prec = 6\n",
    "print(\"This is one of the ways to fix it. Now it shows:\")\n",
    "if Decimal(\"0.1\")+Decimal(\"0.2\")==Decimal(\"0.3\"):\n",
    "   print(\"true\")\n",
    "else:\n",
    "   print(\"false\")\n",
    "# "
   ]
  },
  {
   "cell_type": "code",
   "execution_count": 19,
   "metadata": {},
   "outputs": [
    {
     "name": "stdout",
     "output_type": "stream",
     "text": [
      "Enter the first string:\n",
      "Enter the second string:\n",
      "Before exchanging\n",
      "Wollo\n",
      "Herld\n",
      "The new string after performing all above operations is:Hello World\n"
     ]
    }
   ],
   "source": [
    "# Q.7)Write a Python program to get a single string from two given strings, separated by a space and swap the first two characters of each string.\n",
    "# Ans.:\n",
    "print(\"Enter the first string:\")\n",
    "a=input()\n",
    "print(\"Enter the second string:\")\n",
    "b=input()\n",
    "print(\"Before exchanging\")\n",
    "print(a)\n",
    "print(b)\n",
    "a1=b[:2]+a[2:]\n",
    "b2=a[:2]+b[2:]\n",
    "ans=a1+\" \"+b2\n",
    "print(f\"The new string after performing all above operations is:{ans}\")"
   ]
  },
  {
   "cell_type": "code",
   "execution_count": 21,
   "metadata": {},
   "outputs": [
    {
     "name": "stdout",
     "output_type": "stream",
     "text": [
      "Enter a string containing lowercase letters, uppercase letters, digits or underscores or combinations of all:\n",
      "Shreyaan_98\n",
      "It is a valid identifier\n"
     ]
    }
   ],
   "source": [
    "# Q.8)Ask the user for a string containing lowercase letters, uppercase letters, digits or underscores or combinations of all. Write a Python program to check whether the string is a valid identifier.\n",
    "# Ans.:\n",
    "import keyword\n",
    "print(\"Enter a string containing lowercase letters, uppercase letters, digits or underscores or combinations of all:\")\n",
    "str=input()\n",
    "print(str)\n",
    "if str.isidentifier() and not(keyword.iskeyword(str)):\n",
    " print(\"It is a valid identifier\")\n",
    "else:\n",
    " print(\"It is not a valid identifier\")\n"
   ]
  },
  {
   "cell_type": "code",
   "execution_count": 22,
   "metadata": {},
   "outputs": [
    {
     "name": "stdout",
     "output_type": "stream",
     "text": [
      "Enter a string:\n",
      "nhreyaas\n",
      "The modified string is:shreyaan\n"
     ]
    }
   ],
   "source": [
    "# Q.9)Write a Python program to change a given string to a new string where the first and last chars have been exchanged.\n",
    "# Ans.:\n",
    "print(\"Enter a string:\")\n",
    "str=input()\n",
    "print(str)\n",
    "string=str[-1]+str[1:-1]+str[0]\n",
    "print(f\"The modified string is:{string}\")\n"
   ]
  },
  {
   "cell_type": "code",
   "execution_count": 23,
   "metadata": {},
   "outputs": [
    {
     "name": "stdout",
     "output_type": "stream",
     "text": [
      "Shreyaan\n",
      "The string converted to uppercase:SHREYAAN\n",
      "The string converted to lowercase:shreyaan\n"
     ]
    }
   ],
   "source": [
    "# Q.10)Write a Python script that takes input from the user and displays that input back in upper and lower cases.\n",
    "# Ans.:\n",
    "\n",
    "str=input(\"Enter a string:\")\n",
    "print(str)\n",
    "print(f\"The string converted to uppercase:{str.upper()}\")\n",
    "print(f\"The string converted to lowercase:{str.lower()}\")\n"
   ]
  }
 ],
 "metadata": {
  "kernelspec": {
   "display_name": "Python 3",
   "language": "python",
   "name": "python3"
  },
  "language_info": {
   "codemirror_mode": {
    "name": "ipython",
    "version": 3
   },
   "file_extension": ".py",
   "mimetype": "text/x-python",
   "name": "python",
   "nbconvert_exporter": "python",
   "pygments_lexer": "ipython3",
   "version": "3.12.1"
  }
 },
 "nbformat": 4,
 "nbformat_minor": 2
}
