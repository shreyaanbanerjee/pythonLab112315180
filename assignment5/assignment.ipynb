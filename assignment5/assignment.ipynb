{
 "cells": [
  {
   "cell_type": "code",
   "execution_count": 3,
   "metadata": {},
   "outputs": [
    {
     "name": "stdout",
     "output_type": "stream",
     "text": [
      "{101, 102, 105, 106, 107, 108}\n"
     ]
    }
   ],
   "source": [
    "l1= [101, 102, 103, 104, 105]\n",
    "l2= [103, 104, 106, 107, 108]\n",
    "s1=frozenset(l1)\n",
    "s2=frozenset(l2)\n",
    "print(\"The resulting set is:\",set((s1|s2) -(s1&s2)))"
   ]
  },
  {
   "cell_type": "code",
   "execution_count": 4,
   "metadata": {},
   "outputs": [
    {
     "name": "stdout",
     "output_type": "stream",
     "text": [
      "Enter the facebook, twitter and linkedin friends:\n",
      "Mutual friends across all platforms are: set()\n"
     ]
    }
   ],
   "source": [
    "print(\"Enter the facebook, twitter and linkedin friends:\")\n",
    "s1=set(input().split())\n",
    "s2=set(input().split())\n",
    "s3=set(input().split())\n",
    "print(\"Mutual friends across all platforms are:\",s1&s2&s3)"
   ]
  },
  {
   "cell_type": "code",
   "execution_count": 6,
   "metadata": {},
   "outputs": [
    {
     "name": "stdout",
     "output_type": "stream",
     "text": [
      "[1, 2, 3]\n",
      "Elements absent in sequence is:\n"
     ]
    }
   ],
   "source": [
    "n = int(input(\"Enter number of elements: \"))\n",
    "l1=[]\n",
    "for i in range(n):\n",
    "    ele = int(input())\n",
    "    l1.append(ele)\n",
    "print(l1)\n",
    "print(\"Elements absent in sequence is:\")\n",
    "for i in range(1,int(max(l1))):\n",
    "   if i not in l1:\n",
    "       print(i,\" \")"
   ]
  },
  {
   "cell_type": "code",
   "execution_count": 7,
   "metadata": {},
   "outputs": [
    {
     "name": "stdout",
     "output_type": "stream",
     "text": [
      "The duplicate elements are:shre6745@gmail.com\n"
     ]
    }
   ],
   "source": [
    "inp=input().split()\n",
    "dict={}\n",
    "for i in inp:\n",
    "    dict[i]=inp.count(i)\n",
    "print(\"The duplicate elements are:\",end=\"\")\n",
    "for i in dict.keys():\n",
    "    if dict[i]>1:\n",
    "        print(i)\n"
   ]
  },
  {
   "cell_type": "code",
   "execution_count": 8,
   "metadata": {},
   "outputs": [
    {
     "name": "stdout",
     "output_type": "stream",
     "text": [
      "It is a subset\n"
     ]
    }
   ],
   "source": [
    "s1=set(input().split())\n",
    "s2=set(input().split())\n",
    "if s2.issubset(s1):\n",
    "    print(\"It is a subset\")\n",
    "else:\n",
    "    print(\"It is not a subset\")\n"
   ]
  },
  {
   "cell_type": "code",
   "execution_count": null,
   "metadata": {},
   "outputs": [],
   "source": [
    "l = []\n",
    "count = {}\n",
    "n = int(input(\"Enter the number of documents: \"))\n",
    "for i in range(n):\n",
    "    l.append(set(input(\"Enter the words in document {}: \".format(i + 1)).split()))\n",
    "for doc in l:\n",
    "    unique = set(doc)\n",
    "    for word in unique:\n",
    "        count[word] = count.get(word, 0) + 1\n",
    "print({word for word, count in count.items() if count == 1})"
   ]
  },
  {
   "cell_type": "code",
   "execution_count": null,
   "metadata": {},
   "outputs": [],
   "source": [
    "inventory1 = input().split()\n",
    "inventory2 = input().split()\n",
    "set1 = set(inventory1)\n",
    "set2 = set(inventory2)\n",
    "print( set1 & set2)"
   ]
  },
  {
   "cell_type": "code",
   "execution_count": null,
   "metadata": {},
   "outputs": [],
   "source": [
    "graph = {}\n",
    "n = int(input(\"Enter the number of nodes: \"))\n",
    "for _ in range(n):\n",
    "    node = input(\"Enter node: \")\n",
    "    neighbors = input(f\"Enter neighbors of {node} (space-separated): \").split()\n",
    "    graph[node] = set(neighbors)\n",
    "start = input(\"Enter the start node: \")\n",
    "visited = set()\n",
    "stack = [start]\n",
    "\n",
    "while stack:\n",
    "    current = stack.pop() \n",
    "    if current not in visited:\n",
    "        visited.add(current) \n",
    "        stack.extend(graph.get(current, []))  \n",
    "print(\"Reachable nodes:\", visited)"
   ]
  },
  {
   "cell_type": "code",
   "execution_count": null,
   "metadata": {},
   "outputs": [],
   "source": [
    "graph = {}\n",
    "n = int(input(\"Enter the number of nodes: \"))\n",
    "for _ in range(n):\n",
    "   node = input(\"Enter node: \")\n",
    "   neighbors = input(f\"Enter neighbors: \").split()\n",
    "   graph[node] = set(neighbors)\n",
    "state = {} \n",
    "has_cycle = False\n",
    "to_visit = [\"1\"]\n",
    "while to_visit:\n",
    "   node = to_visit.pop()\n",
    "   if node not in state:\n",
    "       state[node] = 1\n",
    "       to_visit.extend(graph.get(node, []))\n",
    "   elif state[node] == 1:\n",
    "       has_cycle = True\n",
    "       break\n",
    "   elif state[node] == 2:\n",
    "       continue\n",
    "   state[node] = 2\n",
    "if has_cycle:\n",
    "   print(\"Cycle detected\")\n",
    "else:\n",
    "   print(\"No cycle detected\")\n"
   ]
  },
  {
   "cell_type": "code",
   "execution_count": 9,
   "metadata": {},
   "outputs": [
    {
     "name": "stdout",
     "output_type": "stream",
     "text": [
      "[set(), {1}, {2}, {1, 2}, {3}, {1, 3}, {2, 3}, {1, 2, 3}]\n"
     ]
    }
   ],
   "source": [
    "s = {1, 2, 3}\n",
    "s_list = list(s)\n",
    "psl = [[]]  \n",
    "for e in s_list:\n",
    "    new = [sub + [e] for sub in psl]\n",
    "    psl.extend(new)\n",
    "print([set(sub) for sub in psl])"
   ]
  }
 ],
 "metadata": {
  "kernelspec": {
   "display_name": "Python 3",
   "language": "python",
   "name": "python3"
  },
  "language_info": {
   "codemirror_mode": {
    "name": "ipython",
    "version": 3
   },
   "file_extension": ".py",
   "mimetype": "text/x-python",
   "name": "python",
   "nbconvert_exporter": "python",
   "pygments_lexer": "ipython3",
   "version": "3.12.6"
  }
 },
 "nbformat": 4,
 "nbformat_minor": 2
}
