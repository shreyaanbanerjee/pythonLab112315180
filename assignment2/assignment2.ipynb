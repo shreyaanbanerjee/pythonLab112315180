{
 "cells": [
  {
   "cell_type": "code",
   "execution_count": 1,
   "metadata": {},
   "outputs": [
    {
     "name": "stdout",
     "output_type": "stream",
     "text": [
      "13\n",
      "Given number is odd\n"
     ]
    }
   ],
   "source": [
    "# 1) Write a Program for checking whether the given number is an even number or not.\n",
    "# Code:\n",
    "a=int(input(\"Enter a number:\"))\n",
    "print(a)\n",
    "if a % 2 == 0:\n",
    "  print(\"Given number is even\")\n",
    "else:\n",
    "  print(\"Given number is odd\")"
   ]
  },
  {
   "cell_type": "code",
   "execution_count": 2,
   "metadata": {},
   "outputs": [
    {
     "name": "stdout",
     "output_type": "stream",
     "text": [
      "1/2=0.500 \n",
      "1/3=0.333 \n",
      "1/4=0.250 \n",
      "1/5=0.200 \n",
      "1/6=0.167 \n",
      "1/7=0.143 \n",
      "1/8=0.125 \n",
      "1/9=0.111 \n",
      "1/10=0.100 \n"
     ]
    }
   ],
   "source": [
    "# 2) Using for loop, write a program that prints out the decimal equivalents of 1/2, 1/3, 1/4, . . . , 1/10.\n",
    "# Code:\n",
    "for i in range(2,11):\n",
    "  print(f\"1/{i}={(1/i):.3f} \")"
   ]
  },
  {
   "cell_type": "code",
   "execution_count": 3,
   "metadata": {},
   "outputs": [
    {
     "name": "stdout",
     "output_type": "stream",
     "text": [
      "5\n",
      "4\n",
      "3\n",
      "2\n",
      "1\n",
      "0\n"
     ]
    }
   ],
   "source": [
    "# 3) Write a program using a while loop that asks the user for a number, and prints a countdown from that\n",
    "# number to zero.\n",
    "# Code:\n",
    "num=int(input(\"Enter a number:\"))\n",
    "while num >= 0:\n",
    "    print(num)\n",
    "    num=num-1"
   ]
  },
  {
   "cell_type": "code",
   "execution_count": 4,
   "metadata": {},
   "outputs": [
    {
     "name": "stdout",
     "output_type": "stream",
     "text": [
      "Wed August 28 13:33:10 IST 2024\n"
     ]
    }
   ],
   "source": [
    "# 4) Write a python script to print the current date in the following format “Mon August 12 02:26:23 IST 2024”.\n",
    "# Code:\n",
    "import datetime\n",
    "now = datetime.datetime.now()\n",
    "print(f\"{now:%a} {now:%B} {now:%d} {now:%H}:{now:%M}:{now:%S} IST {now:%Y}\")"
   ]
  },
  {
   "cell_type": "code",
   "execution_count": 6,
   "metadata": {},
   "outputs": [
    {
     "name": "stdout",
     "output_type": "stream",
     "text": [
      "5\n",
      "9\n",
      "2\n",
      "Second number is the largest\n"
     ]
    }
   ],
   "source": [
    "# 5) Write a python program to find largest of three numbers.\n",
    "# Code:\n",
    "a=int(input(\"Enter the first number: \"))\n",
    "b=int(input(\"Enter the second number: \"))\n",
    "c=int(input(\"Enter the third number: \"))\n",
    "print(a)\n",
    "print(b)\n",
    "print(c)\n",
    "if a>b and a>c:\n",
    "    print(f\"First number is the largest\")\n",
    "elif b>c:\n",
    "    print(f\"Second number is the largest\")\n",
    "else:\n",
    "    print(f\"Third number is the largest\")"
   ]
  },
  {
   "cell_type": "code",
   "execution_count": 8,
   "metadata": {},
   "outputs": [
    {
     "name": "stdout",
     "output_type": "stream",
     "text": [
      "0\n",
      "32\n",
      "Celsius converted to Fahrenheit:32.0\n",
      "Fahrenheit converted to Celsius:0.0\n"
     ]
    }
   ],
   "source": [
    "# 6) Write a Python program to convert temperatures to and from Celsius, Fahrenheit. [ Formula : c/5 = f-32/9 ]\n",
    "\n",
    "cel=int(input(\"Enter temperature in celsius: \"))\n",
    "faren=int(input(\"Enter temperature in fahrenheit: \"))\n",
    "print(cel)\n",
    "print(faren)\n",
    "a=(faren-32) * 5/9\n",
    "b=cel*9/5 +32\n",
    "print(f\"Celsius converted to Fahrenheit:{b}\")\n",
    "print(f\"Fahrenheit converted to Celsius:{a}\")"
   ]
  },
  {
   "cell_type": "code",
   "execution_count": 13,
   "metadata": {},
   "outputs": [
    {
     "name": "stdout",
     "output_type": "stream",
     "text": [
      "Prime numbers less than 20 are:\n",
      "2\n",
      "3\n",
      "5\n",
      "7\n",
      "11\n",
      "13\n",
      "17\n",
      "19\n"
     ]
    }
   ],
   "source": [
    "# 7) Write a Python script that prints prime numbers less than 20.\n",
    "# Code:\n",
    "print(\"Prime numbers less than 20 are:\")\n",
    "for i in range(2,20):\n",
    "    flag = 0\n",
    "    for j in range(2, int((i//2)) + 1):\n",
    "        if (i % j == 0):\n",
    "            flag = 1\n",
    "            break\n",
    "    if (flag == 0):\n",
    "      print(i)"
   ]
  },
  {
   "cell_type": "code",
   "execution_count": 17,
   "metadata": {},
   "outputs": [
    {
     "name": "stdout",
     "output_type": "stream",
     "text": [
      "Triangle is a right angle triangle\n"
     ]
    }
   ],
   "source": [
    "# 8) Write a program that accepts the lengths of three sides of a triangle as inputs. The program output should\n",
    "# indicate whether or not the triangle is a right triangle (Recall from the Pythagorean Theorem that in a right\n",
    "# triangle, the square of one side equals the sum of the squares of the other two sides).\n",
    "# Code:\n",
    "\n",
    "a=int(input(\"Enter the perpendicular: \"))\n",
    "b=int(input(\"Enter the base: \"))\n",
    "c=int(input(\"Enter the hypotenuse: \"))\n",
    "if c*c == a*a + b*b:\n",
    "    print(\"Triangle is a right angle triangle\")\n",
    "else:\n",
    "    print(\"Triangle is not a right angle triangle\")"
   ]
  },
  {
   "cell_type": "code",
   "execution_count": 22,
   "metadata": {},
   "outputs": [
    {
     "name": "stdout",
     "output_type": "stream",
     "text": [
      "90 91 92\n",
      "Average of best two test marks out of three test's marks is 91.5\n"
     ]
    }
   ],
   "source": [
    "# 9) Write a python program to find the best of two test average marks out of three test’s marks accepted from\n",
    "# the user.\n",
    "# Expected Result:\n",
    "# Enter marks for test1 : 45\n",
    "# Enter marks for test2 : 39\n",
    "# Enter marks for test3 : 48\n",
    "# Average of best two test marks out of three test’s marks is 46.5\n",
    "# Code:\n",
    "a=int(input(\"Enter marks for test1 : \"))\n",
    "b=int(input(\"Enter marks for test2 : \"))\n",
    "c=int(input(\"Enter marks for test3 : \"))\n",
    "print(a,b,c)\n",
    "mini=min(a,b,c)\n",
    "average = (a + b + c - mini) / 2\n",
    "print(\"Average of best two test marks out of three test's marks is\", round(average, 1))"
   ]
  },
  {
   "cell_type": "code",
   "execution_count": 23,
   "metadata": {},
   "outputs": [
    {
     "name": "stdout",
     "output_type": "stream",
     "text": [
      "Not Palindrome\n",
      "1  appears  2  times\n",
      "2  appears  2  times\n",
      "3  appears  1  times\n"
     ]
    }
   ],
   "source": [
    "# 10) Develop a Python program to check whether a given number is palindrome or not and also count the\n",
    "# number of occurrences of each digit in the input number.\n",
    "\n",
    "# Expected Result:\n",
    "# Enter a value : 1234234\n",
    "# Not Palindrome\n",
    "# 1 appears 1 times\n",
    "# 2 appears 2 times\n",
    "# 3 appears 2 times\n",
    "# 4 appears 2 times\n",
    "# Enter a value : 12321\n",
    "# Palindrome\n",
    "# 1 appears 2 times\n",
    "# 2 appears 2 times\n",
    "# 3 appears 1 times\n",
    "# Code:\n",
    "num=int(input(\"Enter a value:\"))\n",
    "t=0\n",
    "n=num\n",
    "Dict={1:0,2:0,3:0,4:0,5:0,6:0,7:0,8:0,9:0,0:0}\n",
    "while n>0:\n",
    "    t=n%10\n",
    "    Dict[t]+=1\n",
    "    t=(t*10)+t\n",
    "    n=n//10\n",
    "if num==t :\n",
    "    print(\"Palindrome\")\n",
    "else :\n",
    "    print(\"Not Palindrome\")\n",
    "\n",
    "for key in Dict.keys():\n",
    "    if Dict[key]!=0:\n",
    "        print(key,\" appears \",Dict[key],\" times\")"
   ]
  },
  {
   "cell_type": "code",
   "execution_count": 24,
   "metadata": {},
   "outputs": [
    {
     "name": "stdout",
     "output_type": "stream",
     "text": [
      "This sentence has ['Rama', 'went', 'to', 'Devaraja', 'market', 'to', 'pick', '2', 'kgs', 'of', 'vegetable'] words\n",
      "This sentence has 1 digits\n",
      "2 upper case letters\n",
      "42 lower case letters\n"
     ]
    }
   ],
   "source": [
    "# 11) Write a Python program that accepts a sentence and find the number of words, digits, uppercase letters\n",
    "# and lowercase letters.\n",
    "# Expected Result:\n",
    "# Enter a sentence : Rama went to Devaraja market to pick 2 kgs of vegetable\n",
    "# This sentence has 11 words\n",
    "# This sentence has 1 digits\n",
    "# 2 upper case letters\n",
    "# 42 lower case letters\n",
    "s = input(\"Enter a sentence : \")\n",
    "digit = 0\n",
    "upper = 0\n",
    "lower = 0\n",
    "words = s.split()\n",
    "word = len(words)\n",
    "for char in s:\n",
    "    if char.isdigit():\n",
    "        digit += 1\n",
    "    elif char.isupper():\n",
    "        upper += 1\n",
    "    elif char.islower():\n",
    "        lower += 1\n",
    "print(f\"This sentence has {words} words\")\n",
    "print(f\"This sentence has {digit} digits\")\n",
    "print(f\"{upper} upper case letters\")\n",
    "print(f\"{lower} lower case letters\")"
   ]
  }
 ],
 "metadata": {
  "kernelspec": {
   "display_name": "Python 3",
   "language": "python",
   "name": "python3"
  },
  "language_info": {
   "codemirror_mode": {
    "name": "ipython",
    "version": 3
   },
   "file_extension": ".py",
   "mimetype": "text/x-python",
   "name": "python",
   "nbconvert_exporter": "python",
   "pygments_lexer": "ipython3",
   "version": "3.12.1"
  }
 },
 "nbformat": 4,
 "nbformat_minor": 2
}
