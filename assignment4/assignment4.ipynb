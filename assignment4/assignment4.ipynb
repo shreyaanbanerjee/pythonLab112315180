{
 "cells": [
  {
   "cell_type": "markdown",
   "metadata": {},
   "source": [
    "1.Write a program which can compute the factorial of given numbers.The results should be printed in a comma-separated sequence on a single line."
   ]
  },
  {
   "cell_type": "code",
   "execution_count": 3,
   "metadata": {},
   "outputs": [
    {
     "name": "stdout",
     "output_type": "stream",
     "text": [
      "Enter the numbers:\n",
      "The number is: 2\n",
      "The factorial of the number is : 2\n",
      "The number is: 3\n",
      "The factorial of the number is : 6\n",
      "The number is: 4\n",
      "The factorial of the number is : 24\n",
      "The number is: 5\n",
      "The factorial of the number is : 120\n",
      "The number is: 6\n",
      "The factorial of the number is : 720\n"
     ]
    }
   ],
   "source": [
    "n=int(input(\"Enter the number of elements\"))\n",
    "l=[]\n",
    "print(\"Enter the numbers:\")\n",
    "for i in range(n):\n",
    "    ele=int(input())\n",
    "    print(\"The number is:\",ele)\n",
    "    f=1\n",
    "    for i in range(1,ele+1):\n",
    "        f*=i\n",
    "    print(\"The factorial of the number is :\", f)\n"
   ]
  },
  {
   "cell_type": "code",
   "execution_count": 6,
   "metadata": {},
   "outputs": [
    {
     "name": "stdout",
     "output_type": "stream",
     "text": [
      "The list of numbers is: ['a', 'b', 'c', 'd', 'e', 'f']\n",
      "The tuple of numbers is: ('a', 'b', 'c', 'd', 'e', 'f')\n"
     ]
    }
   ],
   "source": [
    "# 2.\n",
    "li=input(\"Enter a sequence of comma-separated numbers\").split(',')\n",
    "print(\"The list of numbers is:\",li)\n",
    "tu=tuple(li)\n",
    "print(\"The tuple of numbers is:\",tu)"
   ]
  },
  {
   "cell_type": "code",
   "execution_count": 10,
   "metadata": {},
   "outputs": [
    {
     "name": "stdout",
     "output_type": "stream",
     "text": [
      "Values of D: ['3000', '30']\n",
      "For D value 3000 , the value of Q is  1.0\n",
      "For D value 30 , the value of Q is  10.0\n"
     ]
    }
   ],
   "source": [
    "import math\n",
    "c=50\n",
    "h=30\n",
    "li=input(\"Enter a sequence of comma-separated values of 'D'\").split(',')\n",
    "print(\"Values of D:\",li)\n",
    "for i in li:\n",
    "    print(\"For D value\",i,\", the value of Q is \",math.sqrt((c*h*2)/int(i)))"
   ]
  },
  {
   "cell_type": "code",
   "execution_count": 12,
   "metadata": {},
   "outputs": [
    {
     "name": "stdout",
     "output_type": "stream",
     "text": [
      "The sorted list is: ['cat', 'dog', 'home', 'mouse']\n"
     ]
    }
   ],
   "source": [
    "li=input(\"Enter a sequence of comma-separated words\").split(',')\n",
    "li.sort()\n",
    "print(\"The sorted list is:\",li)\n"
   ]
  },
  {
   "cell_type": "code",
   "execution_count": 16,
   "metadata": {},
   "outputs": [
    {
     "name": "stdout",
     "output_type": "stream",
     "text": [
      "The input list: ['0100', '0011', '1010', '1001']\n",
      "The values divisible by 5 are:\n",
      "1010\n"
     ]
    }
   ],
   "source": [
    "li=input(\"Enter a sequence of comma-separated binary numbers\").split(',')\n",
    "print(\"The input list:\",li)\n",
    "print(\"The values divisible by 5 are:\")\n",
    "for i in li:\n",
    "    d=int(i,2)\n",
    "    if int(d)%5 == 0:\n",
    "        print(i)\n"
   ]
  },
  {
   "cell_type": "code",
   "execution_count": 19,
   "metadata": {},
   "outputs": [
    {
     "name": "stdout",
     "output_type": "stream",
     "text": [
      "The list of tuples is: [('5',), ('6',), ('4',), ('7',), ('10',), ('17',)]\n"
     ]
    }
   ],
   "source": [
    "lis=[]\n",
    "li=[]\n",
    "n=int(input(\"Enter number of lists in nested list:\"))\n",
    "for i in range(n):\n",
    "    str=input(\"Enter a sequence of comma-separated to form the list\").split(',')\n",
    "    lis.append(str)\n",
    "    for j in str:\n",
    "        li.append((j,))\n",
    "print(\"The list of tuples is:\",li)"
   ]
  },
  {
   "cell_type": "code",
   "execution_count": 27,
   "metadata": {},
   "outputs": [
    {
     "name": "stdout",
     "output_type": "stream",
     "text": [
      "Tom,19,80\n",
      "John,20,90\n",
      "Jony,17,91\n",
      "Jony,17,93\n",
      "Json,21,85\n",
      "[('John', '20', '90'), ('Jony', '17', '91'), ('Jony', '17', '93'), ('Json', '21', '85'), ('Tom', '19', '80')]\n"
     ]
    }
   ],
   "source": [
    "import operator\n",
    "li=[]\n",
    "lis=[]\n",
    "n=int(input(\"Enter number of lists in nested list:\"))\n",
    "for i in range(n):\n",
    "    str=input(\"Enter a sequence of comma-separated values of a tuple:\")\n",
    "    print(str)\n",
    "    modified=tuple(str.split(\",\"))\n",
    "    li.append(modified)\n",
    "li.sort(key=operator.itemgetter(2))\n",
    "li.sort(key=operator.itemgetter(1))\n",
    "li.sort(key=operator.itemgetter(0))\n",
    "print(li)"
   ]
  },
  {
   "cell_type": "code",
   "execution_count": 33,
   "metadata": {},
   "outputs": [
    {
     "name": "stdout",
     "output_type": "stream",
     "text": [
      "['UP', '5']\n",
      "['DOWN', '3']\n",
      "['LEFT', '3']\n",
      "['RIGHT', '2']\n",
      "Distance from current position: 2\n"
     ]
    }
   ],
   "source": [
    "import math\n",
    "dict={}\n",
    "for i in range(4):\n",
    "    str=input(\"Enter the direction and steps:\").split()\n",
    "    print(str)\n",
    "    dict[str[0]]=str[1]\n",
    "x=0\n",
    "y=0\n",
    "x=x+int(dict[\"UP\"])\n",
    "x=x-int(dict[\"DOWN\"])\n",
    "y=y+int(dict[\"RIGHT\"])\n",
    "y=y-int(dict[\"LEFT\"])\n",
    "print(\"Distance from current position:\",int(math.sqrt(x*x+y*y)))"
   ]
  },
  {
   "cell_type": "code",
   "execution_count": 40,
   "metadata": {},
   "outputs": [
    {
     "name": "stdout",
     "output_type": "stream",
     "text": [
      "New to Python or choosing between Python 2 and Python 3? Read Python 2 or Python 3\n",
      "{'2': 2, '3': 1, '3?': 1, 'New': 1, 'Python': 5, 'Read': 1, 'and': 1, 'between': 1, 'choosing': 1, 'or': 2, 'to': 1}\n",
      "2 : 2\n",
      "3 : 1\n",
      "3? : 1\n",
      "New : 1\n",
      "Python : 5\n",
      "Read : 1\n",
      "and : 1\n",
      "between : 1\n",
      "choosing : 1\n",
      "or : 2\n",
      "to : 1\n"
     ]
    }
   ],
   "source": [
    "str=input(\"Enter the sentence:\")\n",
    "print(str)\n",
    "lis=str.split()\n",
    "lis.sort()\n",
    "dict={}\n",
    "for word in lis:\n",
    "   dict[word]=lis.count(word)\n",
    "print(dict)\n",
    "for i in dict:\n",
    "   print(i,\":\",dict[i])\n",
    "#New to Python or choosing between Python 2 and Python 3? Read Python 2 or Python 3"
   ]
  },
  {
   "cell_type": "code",
   "execution_count": 56,
   "metadata": {},
   "outputs": [
    {
     "name": "stdout",
     "output_type": "stream",
     "text": [
      "The list is: [(15, 6), (16, 7, 8, 10), (17, 13)]\n"
     ]
    }
   ],
   "source": [
    "# lst=[]\n",
    "# n=int(input(\"Enter number of lists in nested list:\"))\n",
    "# for i in range(n):\n",
    "#     str=tuple(input(\"Enter the direction and steps:\").split())\n",
    "#     tu=()\n",
    "#     lst.append(str)\n",
    "# print(lst)\n",
    "lst=[(15,6),(16,7),(16,8),(16,10),(17,13)]\n",
    "d={}\n",
    "for i,j in lst:\n",
    "    if i not in d:\n",
    "        lst=[j]\n",
    "        d[i]=lst\n",
    "    else:\n",
    "        d[i].append(j)\n",
    "r=[]\n",
    "for i,j in d.items():\n",
    "    t=[]\n",
    "    t.append(i)\n",
    "    t.extend(j)\n",
    "    r.append(tuple(t))\n",
    "print(\"The list is:\",r)"
   ]
  }
 ],
 "metadata": {
  "kernelspec": {
   "display_name": "Python 3",
   "language": "python",
   "name": "python3"
  },
  "language_info": {
   "codemirror_mode": {
    "name": "ipython",
    "version": 3
   },
   "file_extension": ".py",
   "mimetype": "text/x-python",
   "name": "python",
   "nbconvert_exporter": "python",
   "pygments_lexer": "ipython3",
   "version": "3.12.1"
  }
 },
 "nbformat": 4,
 "nbformat_minor": 2
}
