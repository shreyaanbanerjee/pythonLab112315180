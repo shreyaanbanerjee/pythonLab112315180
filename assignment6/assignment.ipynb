{
 "cells": [
  {
   "cell_type": "code",
   "execution_count": null,
   "metadata": {},
   "outputs": [],
   "source": [
    "def sum(a,b):\n",
    "   return a+b\n",
    "a=int(input(\"Enter the first number:\"))\n",
    "b=int(input(\"Enter the second number:\"))\n",
    "print(\"The sum of numbers are:\",sum(a,b))"
   ]
  },
  {
   "cell_type": "code",
   "execution_count": null,
   "metadata": {},
   "outputs": [],
   "source": [
    "def encrypt(s):\n",
    "    s=s.upper()\n",
    "    s1=\"\"\n",
    "    for i in s:\n",
    "        s1+=chr(((ord(i)-65+23)%26)+65)\n",
    "    return s1\n",
    "s=input(\"Enter a text\")\n",
    "print(\"The Encrypted text is \",encrypt(s))"
   ]
  },
  {
   "cell_type": "code",
   "execution_count": null,
   "metadata": {},
   "outputs": [],
   "source": [
    "def sum(a,b):\n",
    "   return a+b\n",
    "a=(input(\"Enter the first string:\"))\n",
    "b=(input(\"Enter the second string:\"))\n",
    "print(\"The sum of strings are:\",sum(a,b))"
   ]
  },
  {
   "cell_type": "code",
   "execution_count": null,
   "metadata": {},
   "outputs": [],
   "source": [
    "def create():  \n",
    "   dict={i:i**2 for i in range(1,21)}\n",
    "   print(dict)\n",
    "print(\"The created dictionary is:\")\n",
    "create()"
   ]
  },
  {
   "cell_type": "code",
   "execution_count": null,
   "metadata": {},
   "outputs": [],
   "source": [
    "def fib(n):\n",
    "    if n == 0:\n",
    "        return 0\n",
    "    elif n == 1:\n",
    "        return 1\n",
    "    else:\n",
    "        return fib(n-1) + fib(n-2)\n",
    "n = int(input(\"Enter a number: \"))\n",
    "print(f\"Fibonacci of number is {fib(n)}\")"
   ]
  }
 ],
 "metadata": {
  "language_info": {
   "name": "python"
  }
 },
 "nbformat": 4,
 "nbformat_minor": 2
}
