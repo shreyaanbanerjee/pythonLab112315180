{
 "cells": [
  {
   "cell_type": "code",
   "execution_count": 1,
   "metadata": {},
   "outputs": [
    {
     "name": "stdout",
     "output_type": "stream",
     "text": [
      "The number of characters is: 8\n",
      "The configuration of the characters in the string is:\n",
      "{'S': 1, 'h': 1, 'r': 1, 'e': 1, 'y': 1, 'a': 2, 'n': 1}\n"
     ]
    }
   ],
   "source": [
    "# 1. Write a program to count the numbers of characters in the given string and store them in a\n",
    "# dictionary data structure.\n",
    "str=input(\"Enter a string:\")\n",
    "print(\"The number of characters is:\", len(str))\n",
    "dict={}\n",
    "for c in str:\n",
    "    dict[c]=str.count(c)\n",
    "print(\"The configuration of the characters in the string is:\")\n",
    "print(dict)"
   ]
  },
  {
   "cell_type": "code",
   "execution_count": 2,
   "metadata": {},
   "outputs": [
    {
     "name": "stdout",
     "output_type": "stream",
     "text": [
      "Shreyaan born on 07-01-05 and Neel born on 03-02-05\n",
      "Shreyaan turns  19  years on the date 07 01 2024\n",
      "Neel  turns  19  years on the date 03 02 2024\n"
     ]
    }
   ],
   "source": [
    "# 2. Write a program to use split and join methods in the given string and trace a birthday with a\n",
    "# dictionary data structure.\n",
    "n1=input(\"Enter name \")\n",
    "a=input(\"Enter birthday in dd-mm-yy : \")\n",
    "b=a.split(\"-\")\n",
    "n2=input(\"Enter name \")\n",
    "x=input(\"Enter birthday in dd-mm-yy : \")\n",
    "y=x.split(\"-\")\n",
    "ram={\"Day\":b[0],\"Month\":b[1],\"Year\":b[2]}\n",
    "shyam={\"Day\":y[0],\"Month\":y[1],\"Year\":y[2]}\n",
    "res1=n1+\" born on \" + a + \" and \" +n2+ \" born on \"+x\n",
    "print(res1)\n",
    "print(n1,\"turns \",2024-int(ram[\"Year\"])-2000,\" years on the date\",ram[\"Day\"],ram[\"Month\"],2024)\n",
    "print(n2,\" turns \",2024-int(shyam[\"Year\"])-2000,\" years on the date\",shyam[\"Day\"],shyam[\"Month\"],2024)"
   ]
  },
  {
   "cell_type": "code",
   "execution_count": 3,
   "metadata": {},
   "outputs": [
    {
     "name": "stdout",
     "output_type": "stream",
     "text": [
      "The GCD of the two numbers is: 5\n",
      "The HCF of the two numbers: 10.0\n"
     ]
    }
   ],
   "source": [
    "# 3. Write function to compute gcd and lcm of two numbers.\n",
    "def gcd(a,b):\n",
    "    if(b==0):\n",
    "        return a\n",
    "    else:\n",
    "        return gcd(b,a%b)\n",
    "def lcm(a,b):\n",
    "    return a*b/gcd(a,b)\n",
    "a=int(input(\"Enter the first number:\"))\n",
    "b=int(input(\"Enter the second number:\"))\n",
    "print(\"The GCD of the two numbers is:\",gcd(a,b))\n",
    "\n",
    "print(\"The HCF of the two numbers:\", lcm(a,b))"
   ]
  },
  {
   "cell_type": "code",
   "execution_count": 6,
   "metadata": {},
   "outputs": [
    {
     "name": "stdout",
     "output_type": "stream",
     "text": [
      "('3', '4', '4')\n",
      "('0', '0', '1')\n",
      "They are colliding\n"
     ]
    }
   ],
   "source": [
    "# 4. Write a function ball _collide that takes two balls as parameters and computes if they are\n",
    "# colliding. Your function should return a Boolean representing whether or not the balls are\n",
    "# colliding. Represent a ball on a plane as a tuple of (x, y, r), r being the radius. If (distance\n",
    "# between two balls centers) <= (sum of their radii) then (they are colliding)\n",
    "a = tuple((input(\"Enter the parameters of the first ball: \").split()))\n",
    "b = tuple((input(\"Enter the parameters of the second ball: \").split()))\n",
    "print(a)\n",
    "print(b)\n",
    "def ball_collide(a,b):\n",
    "    dist=((int(a[0])-int(b[0]))**2)+((int(a[1])-int(b[1]))**2)\n",
    "    return dist == (int(a[2])+int(b[2]))**2\n",
    "if ball_collide(a,b):\n",
    "    print(\"They are colliding\")\n",
    "else:\n",
    "    print(\"They are not colliding\")"
   ]
  },
  {
   "cell_type": "code",
   "execution_count": 8,
   "metadata": {},
   "outputs": [
    {
     "name": "stdout",
     "output_type": "stream",
     "text": [
      "Enter number of elements :\n",
      "[1, 2, 3, 4, 5]\n",
      "The mean is: 3\n",
      "The median is: 3\n",
      "The mode is: 1\n"
     ]
    }
   ],
   "source": [
    "# 5. Find mean, median, mode for the given set of numbers in a list.\n",
    "import statistics\n",
    "l = []\n",
    "print(\"Enter number of elements :\")\n",
    "n = int(input())\n",
    "for i in range(0, n):\n",
    "    ele = int(input())\n",
    "    l.append(ele)\n",
    "print(l)\n",
    "mean = statistics.mean(l)\n",
    "median = statistics.median(l)\n",
    "mode = statistics.mode(l)\n",
    "print(\"The mean is:\",mean)\n",
    "print(\"The median is:\",median)\n",
    "print(\"The mode is:\",mode)"
   ]
  },
  {
   "cell_type": "code",
   "execution_count": 12,
   "metadata": {},
   "outputs": [
    {
     "name": "stdout",
     "output_type": "stream",
     "text": [
      "[4, 3, 5, 2, 1]\n",
      "Enter 1 for Bubble Sort, 2 for Merge Sort, 3 for Selection Sort, and 4 for Insertion Sort\n",
      "1\n",
      "Sorted list:\n",
      "1 2 3 4 5 "
     ]
    }
   ],
   "source": [
    "def bubbleSort(arr):\n",
    "    n = len(arr)\n",
    "    for i in range(n):\n",
    "        swapped = False\n",
    "        for j in range(0, n-i-1):\n",
    "            if arr[j] > arr[j+1]:\n",
    "                arr[j], arr[j+1] = arr[j+1], arr[j]\n",
    "                swapped = True\n",
    "        if not swapped:\n",
    "            break\n",
    "\n",
    "def merge(arr, l, m, r):\n",
    "    n1 = m - l + 1\n",
    "    n2 = r - m\n",
    "    L = [0] * n1\n",
    "    R = [0] * n2\n",
    "    for i in range(n1):\n",
    "        L[i] = arr[l + i]\n",
    "    for j in range(n2):\n",
    "        R[j] = arr[m + 1 + j]\n",
    "    i = 0\n",
    "    j = 0\n",
    "    k = l\n",
    "    while i < n1 and j < n2:\n",
    "        if L[i] <= R[j]:\n",
    "            arr[k] = L[i]\n",
    "            i += 1\n",
    "        else:\n",
    "            arr[k] = R[j]\n",
    "            j += 1\n",
    "        k += 1\n",
    "    while i < n1:\n",
    "        arr[k] = L[i]\n",
    "        i += 1\n",
    "        k += 1\n",
    "    while j < n2:\n",
    "        arr[k] = R[j]\n",
    "        j += 1\n",
    "        k += 1\n",
    "\n",
    "def mergeSort(arr, l, r):\n",
    "    if l < r:\n",
    "        m = (l + r) // 2\n",
    "        mergeSort(arr, l, m)\n",
    "        mergeSort(arr, m + 1, r)\n",
    "        merge(arr, l, m, r)\n",
    "\n",
    "def selectionSort(arr):\n",
    "    n = len(arr)\n",
    "    for i in range(n):\n",
    "        min_idx = i\n",
    "        for j in range(i+1, n):\n",
    "            if arr[j] < arr[min_idx]:\n",
    "                min_idx = j\n",
    "        arr[i], arr[min_idx] = arr[min_idx], arr[i]\n",
    "\n",
    "def insertionSort(arr):\n",
    "    n = len(arr)\n",
    "    for i in range(1, n):\n",
    "        key = arr[i]\n",
    "        j = i - 1\n",
    "        while j >= 0 and key < arr[j]:\n",
    "            arr[j + 1] = arr[j]\n",
    "            j -= 1\n",
    "        arr[j + 1] = key\n",
    "\n",
    "l = []\n",
    "n = int(input(\"Enter number of elements: \"))\n",
    "for i in range(n):\n",
    "    ele = int(input())\n",
    "    l.append(ele)\n",
    "print(l)\n",
    "print(\"Enter 1 for Bubble Sort, 2 for Merge Sort, 3 for Selection Sort, and 4 for Insertion Sort\")\n",
    "c = int(input())\n",
    "print(c)\n",
    "match c:\n",
    "    case 1:\n",
    "        bubbleSort(l)\n",
    "    case 2:\n",
    "        mergeSort(l, 0, len(l) - 1)\n",
    "    case 3:\n",
    "        selectionSort(l)\n",
    "    case 4:\n",
    "        insertionSort(l)\n",
    "\n",
    "print(\"Sorted list:\")\n",
    "for i in range(len(l)):\n",
    "    print(\"%d\" % l[i], end=\" \")"
   ]
  }
 ],
 "metadata": {
  "kernelspec": {
   "display_name": "Python 3",
   "language": "python",
   "name": "python3"
  },
  "language_info": {
   "codemirror_mode": {
    "name": "ipython",
    "version": 3
   },
   "file_extension": ".py",
   "mimetype": "text/x-python",
   "name": "python",
   "nbconvert_exporter": "python",
   "pygments_lexer": "ipython3",
   "version": "3.12.1"
  }
 },
 "nbformat": 4,
 "nbformat_minor": 2
}
